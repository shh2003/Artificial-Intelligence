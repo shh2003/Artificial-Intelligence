{
 "cells": [
  {
   "cell_type": "code",
   "execution_count": 46,
   "metadata": {
    "executionInfo": {
     "elapsed": 3,
     "status": "ok",
     "timestamp": 1742261219783,
     "user": {
      "displayName": "학교",
      "userId": "12099866461271919980"
     },
     "user_tz": -540
    },
    "id": "YOY9CMH1sISU"
   },
   "outputs": [],
   "source": [
    "import pandas as pd\n",
    "import numpy as np\n",
    "from sklearn.model_selection import train_test_split\n",
    "from sklearn.preprocessing import StandardScaler, LabelEncoder\n",
    "from sklearn.metrics import accuracy_score, classification_report\n",
    "import seaborn as sns\n",
    "import matplotlib.pyplot as plt"
   ]
  },
  {
   "cell_type": "code",
   "execution_count": 47,
   "metadata": {
    "colab": {
     "base_uri": "https://localhost:8080/",
     "height": 423
    },
    "executionInfo": {
     "elapsed": 2695,
     "status": "ok",
     "timestamp": 1742260841962,
     "user": {
      "displayName": "학교",
      "userId": "12099866461271919980"
     },
     "user_tz": -540
    },
    "id": "kADTodh8saYA",
    "outputId": "5ff852d7-fd0c-4e6e-9cd7-b59a4622245f"
   },
   "outputs": [
    {
     "data": {
      "text/html": [
       "<div>\n",
       "<style scoped>\n",
       "    .dataframe tbody tr th:only-of-type {\n",
       "        vertical-align: middle;\n",
       "    }\n",
       "\n",
       "    .dataframe tbody tr th {\n",
       "        vertical-align: top;\n",
       "    }\n",
       "\n",
       "    .dataframe thead th {\n",
       "        text-align: right;\n",
       "    }\n",
       "</style>\n",
       "<table border=\"1\" class=\"dataframe\">\n",
       "  <thead>\n",
       "    <tr style=\"text-align: right;\">\n",
       "      <th></th>\n",
       "      <th>0</th>\n",
       "      <th>1</th>\n",
       "      <th>2</th>\n",
       "      <th>3</th>\n",
       "      <th>4</th>\n",
       "      <th>5</th>\n",
       "      <th>6</th>\n",
       "    </tr>\n",
       "  </thead>\n",
       "  <tbody>\n",
       "    <tr>\n",
       "      <th>0</th>\n",
       "      <td>vhigh</td>\n",
       "      <td>vhigh</td>\n",
       "      <td>2</td>\n",
       "      <td>2</td>\n",
       "      <td>small</td>\n",
       "      <td>low</td>\n",
       "      <td>unacc</td>\n",
       "    </tr>\n",
       "    <tr>\n",
       "      <th>1</th>\n",
       "      <td>vhigh</td>\n",
       "      <td>vhigh</td>\n",
       "      <td>2</td>\n",
       "      <td>2</td>\n",
       "      <td>small</td>\n",
       "      <td>med</td>\n",
       "      <td>unacc</td>\n",
       "    </tr>\n",
       "    <tr>\n",
       "      <th>2</th>\n",
       "      <td>vhigh</td>\n",
       "      <td>vhigh</td>\n",
       "      <td>2</td>\n",
       "      <td>2</td>\n",
       "      <td>small</td>\n",
       "      <td>high</td>\n",
       "      <td>unacc</td>\n",
       "    </tr>\n",
       "    <tr>\n",
       "      <th>3</th>\n",
       "      <td>vhigh</td>\n",
       "      <td>vhigh</td>\n",
       "      <td>2</td>\n",
       "      <td>2</td>\n",
       "      <td>med</td>\n",
       "      <td>low</td>\n",
       "      <td>unacc</td>\n",
       "    </tr>\n",
       "    <tr>\n",
       "      <th>4</th>\n",
       "      <td>vhigh</td>\n",
       "      <td>vhigh</td>\n",
       "      <td>2</td>\n",
       "      <td>2</td>\n",
       "      <td>med</td>\n",
       "      <td>med</td>\n",
       "      <td>unacc</td>\n",
       "    </tr>\n",
       "    <tr>\n",
       "      <th>...</th>\n",
       "      <td>...</td>\n",
       "      <td>...</td>\n",
       "      <td>...</td>\n",
       "      <td>...</td>\n",
       "      <td>...</td>\n",
       "      <td>...</td>\n",
       "      <td>...</td>\n",
       "    </tr>\n",
       "    <tr>\n",
       "      <th>1723</th>\n",
       "      <td>low</td>\n",
       "      <td>low</td>\n",
       "      <td>5more</td>\n",
       "      <td>more</td>\n",
       "      <td>med</td>\n",
       "      <td>med</td>\n",
       "      <td>good</td>\n",
       "    </tr>\n",
       "    <tr>\n",
       "      <th>1724</th>\n",
       "      <td>low</td>\n",
       "      <td>low</td>\n",
       "      <td>5more</td>\n",
       "      <td>more</td>\n",
       "      <td>med</td>\n",
       "      <td>high</td>\n",
       "      <td>vgood</td>\n",
       "    </tr>\n",
       "    <tr>\n",
       "      <th>1725</th>\n",
       "      <td>low</td>\n",
       "      <td>low</td>\n",
       "      <td>5more</td>\n",
       "      <td>more</td>\n",
       "      <td>big</td>\n",
       "      <td>low</td>\n",
       "      <td>unacc</td>\n",
       "    </tr>\n",
       "    <tr>\n",
       "      <th>1726</th>\n",
       "      <td>low</td>\n",
       "      <td>low</td>\n",
       "      <td>5more</td>\n",
       "      <td>more</td>\n",
       "      <td>big</td>\n",
       "      <td>med</td>\n",
       "      <td>good</td>\n",
       "    </tr>\n",
       "    <tr>\n",
       "      <th>1727</th>\n",
       "      <td>low</td>\n",
       "      <td>low</td>\n",
       "      <td>5more</td>\n",
       "      <td>more</td>\n",
       "      <td>big</td>\n",
       "      <td>high</td>\n",
       "      <td>vgood</td>\n",
       "    </tr>\n",
       "  </tbody>\n",
       "</table>\n",
       "<p>1728 rows × 7 columns</p>\n",
       "</div>"
      ],
      "text/plain": [
       "          0      1      2     3      4     5      6\n",
       "0     vhigh  vhigh      2     2  small   low  unacc\n",
       "1     vhigh  vhigh      2     2  small   med  unacc\n",
       "2     vhigh  vhigh      2     2  small  high  unacc\n",
       "3     vhigh  vhigh      2     2    med   low  unacc\n",
       "4     vhigh  vhigh      2     2    med   med  unacc\n",
       "...     ...    ...    ...   ...    ...   ...    ...\n",
       "1723    low    low  5more  more    med   med   good\n",
       "1724    low    low  5more  more    med  high  vgood\n",
       "1725    low    low  5more  more    big   low  unacc\n",
       "1726    low    low  5more  more    big   med   good\n",
       "1727    low    low  5more  more    big  high  vgood\n",
       "\n",
       "[1728 rows x 7 columns]"
      ]
     },
     "metadata": {},
     "output_type": "display_data"
    }
   ],
   "source": [
    "# 데이터 로드\n",
    "file_path = \"C:/AI_File/car_evaluation.csv\"   # 데이터 파일 경로\n",
    "df = pd.read_csv(file_path, header = None)\n",
    "display(df)"
   ]
  },
  {
   "cell_type": "code",
   "execution_count": 48,
   "metadata": {},
   "outputs": [],
   "source": [
    "df.columns=['price', 'maint', 'doors', 'persons', 'lug_capacity', 'safety',\n",
    "       'output']"
   ]
  },
  {
   "cell_type": "code",
   "execution_count": 49,
   "metadata": {
    "colab": {
     "base_uri": "https://localhost:8080/"
    },
    "executionInfo": {
     "elapsed": 7,
     "status": "ok",
     "timestamp": 1742260870023,
     "user": {
      "displayName": "학교",
      "userId": "12099866461271919980"
     },
     "user_tz": -540
    },
    "id": "TE7psn6_tKyl",
    "outputId": "0c83d6ed-63a4-4ce9-c9b6-3fae1944b9d1"
   },
   "outputs": [
    {
     "data": {
      "text/plain": [
       "Index(['price', 'maint', 'doors', 'persons', 'lug_capacity', 'safety',\n",
       "       'output'],\n",
       "      dtype='object')"
      ]
     },
     "execution_count": 49,
     "metadata": {},
     "output_type": "execute_result"
    }
   ],
   "source": [
    "df.columns"
   ]
  },
  {
   "cell_type": "code",
   "execution_count": 50,
   "metadata": {
    "colab": {
     "base_uri": "https://localhost:8080/"
    },
    "executionInfo": {
     "elapsed": 24,
     "status": "ok",
     "timestamp": 1742260747216,
     "user": {
      "displayName": "학교",
      "userId": "12099866461271919980"
     },
     "user_tz": -540
    },
    "id": "LhvwGe97wBRI",
    "outputId": "31229772-9d94-4774-9c0d-e88fde1a517c"
   },
   "outputs": [
    {
     "name": "stdout",
     "output_type": "stream",
     "text": [
      "\n",
      " 결측값 확인:\n",
      "price           0\n",
      "maint           0\n",
      "doors           0\n",
      "persons         0\n",
      "lug_capacity    0\n",
      "safety          0\n",
      "output          0\n",
      "dtype: int64\n"
     ]
    }
   ],
   "source": [
    "# 결측치 확인\n",
    "print(\"\\n 결측값 확인:\")\n",
    "print(df.isnull().sum())"
   ]
  },
  {
   "cell_type": "code",
   "execution_count": 51,
   "metadata": {
    "colab": {
     "base_uri": "https://localhost:8080/",
     "height": 423
    },
    "executionInfo": {
     "elapsed": 75,
     "status": "ok",
     "timestamp": 1742260911183,
     "user": {
      "displayName": "학교",
      "userId": "12099866461271919980"
     },
     "user_tz": -540
    },
    "id": "yL6PuB4swOZn",
    "outputId": "09556e75-35b2-4711-c198-6dccdceac486"
   },
   "outputs": [
    {
     "data": {
      "text/html": [
       "<div>\n",
       "<style scoped>\n",
       "    .dataframe tbody tr th:only-of-type {\n",
       "        vertical-align: middle;\n",
       "    }\n",
       "\n",
       "    .dataframe tbody tr th {\n",
       "        vertical-align: top;\n",
       "    }\n",
       "\n",
       "    .dataframe thead th {\n",
       "        text-align: right;\n",
       "    }\n",
       "</style>\n",
       "<table border=\"1\" class=\"dataframe\">\n",
       "  <thead>\n",
       "    <tr style=\"text-align: right;\">\n",
       "      <th></th>\n",
       "      <th>price</th>\n",
       "      <th>maint</th>\n",
       "      <th>doors</th>\n",
       "      <th>persons</th>\n",
       "      <th>lug_capacity</th>\n",
       "      <th>safety</th>\n",
       "      <th>output</th>\n",
       "    </tr>\n",
       "  </thead>\n",
       "  <tbody>\n",
       "    <tr>\n",
       "      <th>0</th>\n",
       "      <td>3</td>\n",
       "      <td>3</td>\n",
       "      <td>0</td>\n",
       "      <td>0</td>\n",
       "      <td>2</td>\n",
       "      <td>1</td>\n",
       "      <td>2</td>\n",
       "    </tr>\n",
       "    <tr>\n",
       "      <th>1</th>\n",
       "      <td>3</td>\n",
       "      <td>3</td>\n",
       "      <td>0</td>\n",
       "      <td>0</td>\n",
       "      <td>2</td>\n",
       "      <td>2</td>\n",
       "      <td>2</td>\n",
       "    </tr>\n",
       "    <tr>\n",
       "      <th>2</th>\n",
       "      <td>3</td>\n",
       "      <td>3</td>\n",
       "      <td>0</td>\n",
       "      <td>0</td>\n",
       "      <td>2</td>\n",
       "      <td>0</td>\n",
       "      <td>2</td>\n",
       "    </tr>\n",
       "    <tr>\n",
       "      <th>3</th>\n",
       "      <td>3</td>\n",
       "      <td>3</td>\n",
       "      <td>0</td>\n",
       "      <td>0</td>\n",
       "      <td>1</td>\n",
       "      <td>1</td>\n",
       "      <td>2</td>\n",
       "    </tr>\n",
       "    <tr>\n",
       "      <th>4</th>\n",
       "      <td>3</td>\n",
       "      <td>3</td>\n",
       "      <td>0</td>\n",
       "      <td>0</td>\n",
       "      <td>1</td>\n",
       "      <td>2</td>\n",
       "      <td>2</td>\n",
       "    </tr>\n",
       "    <tr>\n",
       "      <th>...</th>\n",
       "      <td>...</td>\n",
       "      <td>...</td>\n",
       "      <td>...</td>\n",
       "      <td>...</td>\n",
       "      <td>...</td>\n",
       "      <td>...</td>\n",
       "      <td>...</td>\n",
       "    </tr>\n",
       "    <tr>\n",
       "      <th>1723</th>\n",
       "      <td>1</td>\n",
       "      <td>1</td>\n",
       "      <td>3</td>\n",
       "      <td>2</td>\n",
       "      <td>1</td>\n",
       "      <td>2</td>\n",
       "      <td>1</td>\n",
       "    </tr>\n",
       "    <tr>\n",
       "      <th>1724</th>\n",
       "      <td>1</td>\n",
       "      <td>1</td>\n",
       "      <td>3</td>\n",
       "      <td>2</td>\n",
       "      <td>1</td>\n",
       "      <td>0</td>\n",
       "      <td>3</td>\n",
       "    </tr>\n",
       "    <tr>\n",
       "      <th>1725</th>\n",
       "      <td>1</td>\n",
       "      <td>1</td>\n",
       "      <td>3</td>\n",
       "      <td>2</td>\n",
       "      <td>0</td>\n",
       "      <td>1</td>\n",
       "      <td>2</td>\n",
       "    </tr>\n",
       "    <tr>\n",
       "      <th>1726</th>\n",
       "      <td>1</td>\n",
       "      <td>1</td>\n",
       "      <td>3</td>\n",
       "      <td>2</td>\n",
       "      <td>0</td>\n",
       "      <td>2</td>\n",
       "      <td>1</td>\n",
       "    </tr>\n",
       "    <tr>\n",
       "      <th>1727</th>\n",
       "      <td>1</td>\n",
       "      <td>1</td>\n",
       "      <td>3</td>\n",
       "      <td>2</td>\n",
       "      <td>0</td>\n",
       "      <td>0</td>\n",
       "      <td>3</td>\n",
       "    </tr>\n",
       "  </tbody>\n",
       "</table>\n",
       "<p>1728 rows × 7 columns</p>\n",
       "</div>"
      ],
      "text/plain": [
       "      price  maint  doors  persons  lug_capacity  safety  output\n",
       "0         3      3      0        0             2       1       2\n",
       "1         3      3      0        0             2       2       2\n",
       "2         3      3      0        0             2       0       2\n",
       "3         3      3      0        0             1       1       2\n",
       "4         3      3      0        0             1       2       2\n",
       "...     ...    ...    ...      ...           ...     ...     ...\n",
       "1723      1      1      3        2             1       2       1\n",
       "1724      1      1      3        2             1       0       3\n",
       "1725      1      1      3        2             0       1       2\n",
       "1726      1      1      3        2             0       2       1\n",
       "1727      1      1      3        2             0       0       3\n",
       "\n",
       "[1728 rows x 7 columns]"
      ]
     },
     "metadata": {},
     "output_type": "display_data"
    }
   ],
   "source": [
    "\n",
    "\n",
    "# LabelEncoder 초기화\n",
    "\n",
    "label_encoder = LabelEncoder()\n",
    "\n",
    "# 특정 컬럼만 인코딩\n",
    "\n",
    "columns_to_encode = ['price', 'maint', 'doors', 'persons', 'lug_capacity', 'safety',\n",
    "       'output']  # 인코딩할 컬럼 리스트\n",
    "\n",
    "for column in columns_to_encode:\n",
    "\n",
    "    df[column] = label_encoder.fit_transform(df[column])\n",
    "\n",
    "display(df)"
   ]
  },
  {
   "cell_type": "code",
   "execution_count": 53,
   "metadata": {
    "colab": {
     "base_uri": "https://localhost:8080/",
     "height": 241
    },
    "executionInfo": {
     "elapsed": 9,
     "status": "ok",
     "timestamp": 1742260886899,
     "user": {
      "displayName": "학교",
      "userId": "12099866461271919980"
     },
     "user_tz": -540
    },
    "id": "jWDEPGUsxfY-",
    "outputId": "5b4edd41-a8cb-425e-ea79-cb81d7ef0ead"
   },
   "outputs": [
    {
     "data": {
      "text/plain": [
       "2    1210\n",
       "0     384\n",
       "1      69\n",
       "3      65\n",
       "Name: output, dtype: int64"
      ]
     },
     "execution_count": 53,
     "metadata": {},
     "output_type": "execute_result"
    }
   ],
   "source": [
    "df['output'].value_counts()"
   ]
  },
  {
   "cell_type": "code",
   "execution_count": 54,
   "metadata": {
    "executionInfo": {
     "elapsed": 8,
     "status": "ok",
     "timestamp": 1742260926731,
     "user": {
      "displayName": "학교",
      "userId": "12099866461271919980"
     },
     "user_tz": -540
    },
    "id": "WyJcYEqLxxK4"
   },
   "outputs": [],
   "source": [
    "\n",
    "X = df.drop('output', axis=1).values\n",
    "y = df['output'].values"
   ]
  },
  {
   "cell_type": "code",
   "execution_count": 55,
   "metadata": {
    "colab": {
     "base_uri": "https://localhost:8080/"
    },
    "executionInfo": {
     "elapsed": 8,
     "status": "ok",
     "timestamp": 1742260929690,
     "user": {
      "displayName": "학교",
      "userId": "12099866461271919980"
     },
     "user_tz": -540
    },
    "id": "bVew0auHycoy",
    "outputId": "c861de0e-58fa-4066-d4fc-2c718a383e80"
   },
   "outputs": [
    {
     "data": {
      "text/plain": [
       "array([[3, 3, 0, 0, 2, 1],\n",
       "       [3, 3, 0, 0, 2, 2],\n",
       "       [3, 3, 0, 0, 2, 0],\n",
       "       ...,\n",
       "       [1, 1, 3, 2, 0, 1],\n",
       "       [1, 1, 3, 2, 0, 2],\n",
       "       [1, 1, 3, 2, 0, 0]])"
      ]
     },
     "execution_count": 55,
     "metadata": {},
     "output_type": "execute_result"
    }
   ],
   "source": [
    "X"
   ]
  },
  {
   "cell_type": "code",
   "execution_count": 56,
   "metadata": {
    "colab": {
     "base_uri": "https://localhost:8080/"
    },
    "executionInfo": {
     "elapsed": 5,
     "status": "ok",
     "timestamp": 1742260931495,
     "user": {
      "displayName": "학교",
      "userId": "12099866461271919980"
     },
     "user_tz": -540
    },
    "id": "qnP-QfWSygmh",
    "outputId": "183a4d97-b3f1-4edd-a92e-54ee73ff282a"
   },
   "outputs": [
    {
     "data": {
      "text/plain": [
       "array([2, 2, 2, ..., 2, 1, 3])"
      ]
     },
     "execution_count": 56,
     "metadata": {},
     "output_type": "execute_result"
    }
   ],
   "source": [
    "y"
   ]
  },
  {
   "cell_type": "code",
   "execution_count": 57,
   "metadata": {
    "executionInfo": {
     "elapsed": 13,
     "status": "ok",
     "timestamp": 1742260933118,
     "user": {
      "displayName": "학교",
      "userId": "12099866461271919980"
     },
     "user_tz": -540
    },
    "id": "CxG6E_oXy9jt"
   },
   "outputs": [],
   "source": [
    "\n",
    "# 데이터 분할 (80% 훈련, 20% 테스트)\n",
    "X_train, X_test, y_train, y_test = train_test_split(X, y, test_size=0.2, random_state=0)\n",
    "\n",
    "# 표준화 (Scaling)\n",
    "scaler = StandardScaler()\n",
    "X_train = scaler.fit_transform(X_train)\n",
    "X_test = scaler.transform(X_test)\n"
   ]
  },
  {
   "cell_type": "code",
   "execution_count": 58,
   "metadata": {
    "colab": {
     "base_uri": "https://localhost:8080/"
    },
    "executionInfo": {
     "elapsed": 22,
     "status": "ok",
     "timestamp": 1742260934884,
     "user": {
      "displayName": "학교",
      "userId": "12099866461271919980"
     },
     "user_tz": -540
    },
    "id": "lucpzKvpzUxT",
    "outputId": "a9f91946-f100-4684-fec2-d74adfce29c4"
   },
   "outputs": [
    {
     "data": {
      "text/plain": [
       "((1382, 6), (346, 6), (1382,), (346,))"
      ]
     },
     "execution_count": 58,
     "metadata": {},
     "output_type": "execute_result"
    }
   ],
   "source": [
    "X_train.shape, X_test.shape, y_train.shape, y_test.shape"
   ]
  },
  {
   "cell_type": "code",
   "execution_count": 59,
   "metadata": {
    "colab": {
     "base_uri": "https://localhost:8080/"
    },
    "executionInfo": {
     "elapsed": 5,
     "status": "ok",
     "timestamp": 1742260935736,
     "user": {
      "displayName": "학교",
      "userId": "12099866461271919980"
     },
     "user_tz": -540
    },
    "id": "SNPPItOAzr1O",
    "outputId": "69da3161-b185-46a0-e1d3-f99260c84c67"
   },
   "outputs": [
    {
     "name": "stdout",
     "output_type": "stream",
     "text": [
      "\n",
      "Decision Tree Model\n",
      "Accuracy: 0.9769\n",
      "Classification Report:\n",
      "              precision    recall  f1-score   support\n",
      "\n",
      "           0       0.97      0.92      0.95        79\n",
      "           1       0.81      1.00      0.89        17\n",
      "           2       0.99      1.00      0.99       240\n",
      "           3       1.00      0.90      0.95        10\n",
      "\n",
      "    accuracy                           0.98       346\n",
      "   macro avg       0.94      0.95      0.95       346\n",
      "weighted avg       0.98      0.98      0.98       346\n",
      "\n",
      "- Confusion Matrix -\n",
      "[[ 73   4   2   0]\n",
      " [  0  17   0   0]\n",
      " [  1   0 239   0]\n",
      " [  1   0   0   9]]\n"
     ]
    }
   ],
   "source": [
    "from sklearn.tree import DecisionTreeClassifier\n",
    "\n",
    "dt_model = DecisionTreeClassifier(random_state=42)\n",
    "dt_model.fit(X_train, y_train)\n",
    "dt_pred = dt_model.predict(X_test)\n",
    "\n",
    "print(\"\\nDecision Tree Model\")\n",
    "print(f\"Accuracy: {accuracy_score(y_test, dt_pred):.4f}\")\n",
    "print(\"Classification Report:\")\n",
    "print(classification_report(y_test, dt_pred))\n",
    "print(\"- Confusion Matrix -\")\n",
    "print (confusion_matrix(y_test, dt_pred))"
   ]
  },
  {
   "cell_type": "code",
   "execution_count": 60,
   "metadata": {
    "colab": {
     "base_uri": "https://localhost:8080/"
    },
    "executionInfo": {
     "elapsed": 207,
     "status": "ok",
     "timestamp": 1742260937627,
     "user": {
      "displayName": "학교",
      "userId": "12099866461271919980"
     },
     "user_tz": -540
    },
    "id": "3TeVPR1y0Flt",
    "outputId": "fa8d8d3c-a2ae-40ba-91be-1708a970a388"
   },
   "outputs": [
    {
     "name": "stdout",
     "output_type": "stream",
     "text": [
      "\n",
      "Random Forest Model\n",
      "Accuracy: 0.9711\n",
      "Classification Report:\n",
      "              precision    recall  f1-score   support\n",
      "\n",
      "           0       0.94      0.95      0.94        79\n",
      "           1       0.88      0.82      0.85        17\n",
      "           2       1.00      0.99      0.99       240\n",
      "           3       0.82      0.90      0.86        10\n",
      "\n",
      "    accuracy                           0.97       346\n",
      "   macro avg       0.91      0.92      0.91       346\n",
      "weighted avg       0.97      0.97      0.97       346\n",
      "\n",
      "- Confusion Matrix -\n",
      "[[ 75   2   1   1]\n",
      " [  2  14   0   1]\n",
      " [  2   0 238   0]\n",
      " [  1   0   0   9]]\n"
     ]
    }
   ],
   "source": [
    "from sklearn.ensemble import RandomForestClassifier\n",
    "\n",
    "rf_model = RandomForestClassifier(random_state=42)\n",
    "rf_model.fit(X_train, y_train)\n",
    "rf_pred = rf_model.predict(X_test)\n",
    "\n",
    "print(\"\\nRandom Forest Model\")\n",
    "print(f\"Accuracy: {accuracy_score(y_test, rf_pred):.4f}\")\n",
    "print(\"Classification Report:\")\n",
    "print(classification_report(y_test, rf_pred))\n",
    "print(\"- Confusion Matrix -\")\n",
    "print (confusion_matrix(y_test, rf_pred))"
   ]
  },
  {
   "cell_type": "code",
   "execution_count": 61,
   "metadata": {
    "colab": {
     "base_uri": "https://localhost:8080/"
    },
    "executionInfo": {
     "elapsed": 57,
     "status": "ok",
     "timestamp": 1742260939165,
     "user": {
      "displayName": "학교",
      "userId": "12099866461271919980"
     },
     "user_tz": -540
    },
    "id": "v0mOcDj10JSX",
    "outputId": "a8abec89-20a9-4ff0-826c-ec3de186fa06"
   },
   "outputs": [
    {
     "name": "stdout",
     "output_type": "stream",
     "text": [
      "\n",
      "Support Vector Machine Model\n",
      "Accuracy: 0.9191\n",
      "Classification Report:\n",
      "              precision    recall  f1-score   support\n",
      "\n",
      "           0       0.77      0.95      0.85        79\n",
      "           1       1.00      0.47      0.64        17\n",
      "           2       0.99      0.95      0.97       240\n",
      "           3       0.70      0.70      0.70        10\n",
      "\n",
      "    accuracy                           0.92       346\n",
      "   macro avg       0.87      0.77      0.79       346\n",
      "weighted avg       0.93      0.92      0.92       346\n",
      "\n",
      "- Confusion Matrix -\n",
      "[[ 75   0   3   1]\n",
      " [  7   8   0   2]\n",
      " [ 12   0 228   0]\n",
      " [  3   0   0   7]]\n"
     ]
    }
   ],
   "source": [
    "from sklearn.svm import SVC\n",
    "\n",
    "svm_model = SVC()\n",
    "svm_model.fit(X_train, y_train)\n",
    "svm_pred = svm_model.predict(X_test)\n",
    "\n",
    "print(\"\\nSupport Vector Machine Model\")\n",
    "print(f\"Accuracy: {accuracy_score(y_test, svm_pred):.4f}\")\n",
    "print(\"Classification Report:\")\n",
    "print(classification_report(y_test, svm_pred))\n",
    "print(\"- Confusion Matrix -\")\n",
    "print (confusion_matrix(y_test, svm_pred))"
   ]
  },
  {
   "cell_type": "code",
   "execution_count": 62,
   "metadata": {
    "colab": {
     "base_uri": "https://localhost:8080/"
    },
    "executionInfo": {
     "elapsed": 35,
     "status": "ok",
     "timestamp": 1742261226370,
     "user": {
      "displayName": "학교",
      "userId": "12099866461271919980"
     },
     "user_tz": -540
    },
    "id": "dCmVGv8r0LnU",
    "outputId": "a0c90b4a-dbe4-490a-91fb-98543fd8d0f6"
   },
   "outputs": [
    {
     "name": "stdout",
     "output_type": "stream",
     "text": [
      "\n",
      "Logistic Regression Model\n",
      "Accuracy: 0.6503\n",
      "Classification Report:\n",
      "              precision    recall  f1-score   support\n",
      "\n",
      "           0       0.26      0.11      0.16        79\n",
      "           1       0.00      0.00      0.00        17\n",
      "           2       0.71      0.89      0.79       240\n",
      "           3       0.22      0.20      0.21        10\n",
      "\n",
      "    accuracy                           0.65       346\n",
      "   macro avg       0.30      0.30      0.29       346\n",
      "weighted avg       0.56      0.65      0.59       346\n",
      "\n",
      "- Confusion Matrix -\n",
      "[[  9   0  67   3]\n",
      " [  1   0  16   0]\n",
      " [ 22   0 214   4]\n",
      " [  2   0   6   2]]\n"
     ]
    },
    {
     "name": "stderr",
     "output_type": "stream",
     "text": [
      "C:\\Users\\nikki\\anaconda3\\lib\\site-packages\\sklearn\\metrics\\_classification.py:1318: UndefinedMetricWarning: Precision and F-score are ill-defined and being set to 0.0 in labels with no predicted samples. Use `zero_division` parameter to control this behavior.\n",
      "  _warn_prf(average, modifier, msg_start, len(result))\n",
      "C:\\Users\\nikki\\anaconda3\\lib\\site-packages\\sklearn\\metrics\\_classification.py:1318: UndefinedMetricWarning: Precision and F-score are ill-defined and being set to 0.0 in labels with no predicted samples. Use `zero_division` parameter to control this behavior.\n",
      "  _warn_prf(average, modifier, msg_start, len(result))\n",
      "C:\\Users\\nikki\\anaconda3\\lib\\site-packages\\sklearn\\metrics\\_classification.py:1318: UndefinedMetricWarning: Precision and F-score are ill-defined and being set to 0.0 in labels with no predicted samples. Use `zero_division` parameter to control this behavior.\n",
      "  _warn_prf(average, modifier, msg_start, len(result))\n"
     ]
    }
   ],
   "source": [
    "from sklearn.linear_model import LogisticRegression\n",
    "\n",
    "\n",
    "lr_model = LogisticRegression(max_iter=1000)\n",
    "lr_model.fit(X_train, y_train)\n",
    "lr_pred = lr_model.predict(X_test)\n",
    "\n",
    "print(\"\\nLogistic Regression Model\")\n",
    "print(f\"Accuracy: {accuracy_score(y_test, lr_pred):.4f}\")\n",
    "print(\"Classification Report:\")\n",
    "print(classification_report(y_test, lr_pred))\n",
    "print(\"- Confusion Matrix -\")\n",
    "print (confusion_matrix(y_test, lr_pred))"
   ]
  },
  {
   "cell_type": "code",
   "execution_count": 63,
   "metadata": {
    "colab": {
     "base_uri": "https://localhost:8080/"
    },
    "executionInfo": {
     "elapsed": 33,
     "status": "ok",
     "timestamp": 1742261223478,
     "user": {
      "displayName": "학교",
      "userId": "12099866461271919980"
     },
     "user_tz": -540
    },
    "id": "Otbxu-Zy0N6s",
    "outputId": "082fee2b-9666-4f3d-9392-c3ebac88c16e"
   },
   "outputs": [
    {
     "name": "stdout",
     "output_type": "stream",
     "text": [
      "\n",
      "K-Nearest Neighbors Model\n",
      "Accuracy: 0.9422\n",
      "Classification Report:\n",
      "              precision    recall  f1-score   support\n",
      "\n",
      "           0       0.85      0.91      0.88        79\n",
      "           1       0.89      0.47      0.62        17\n",
      "           2       0.98      0.99      0.98       240\n",
      "           3       1.00      0.90      0.95        10\n",
      "\n",
      "    accuracy                           0.94       346\n",
      "   macro avg       0.93      0.82      0.86       346\n",
      "weighted avg       0.94      0.94      0.94       346\n",
      "\n",
      "- Confusion Matrix -\n",
      "[[ 72   1   6   0]\n",
      " [  9   8   0   0]\n",
      " [  3   0 237   0]\n",
      " [  1   0   0   9]]\n"
     ]
    }
   ],
   "source": [
    "from sklearn.neighbors import KNeighborsClassifier\n",
    "import warnings\n",
    "warnings.simplefilter(action='ignore', category=FutureWarning)\n",
    "\n",
    "knn_model = KNeighborsClassifier()\n",
    "knn_model.fit(X_train, y_train)\n",
    "knn_pred = knn_model.predict(X_test)\n",
    "\n",
    "print(\"\\nK-Nearest Neighbors Model\")\n",
    "print(f\"Accuracy: {accuracy_score(y_test, knn_pred):.4f}\")\n",
    "print(\"Classification Report:\")\n",
    "print(classification_report(y_test, knn_pred))\n",
    "print(\"- Confusion Matrix -\")\n",
    "print (confusion_matrix(y_test, knn_pred))"
   ]
  }
 ],
 "metadata": {
  "accelerator": "GPU",
  "colab": {
   "authorship_tag": "ABX9TyNLzATg8Qj/fVBgASL7PyiB",
   "gpuType": "T4",
   "mount_file_id": "1XmK7lqGWuWTMCVGMz4NxRUuFqKgQ-ZLX",
   "provenance": []
  },
  "kernelspec": {
   "display_name": "Python 3 (ipykernel)",
   "language": "python",
   "name": "python3"
  },
  "language_info": {
   "codemirror_mode": {
    "name": "ipython",
    "version": 3
   },
   "file_extension": ".py",
   "mimetype": "text/x-python",
   "name": "python",
   "nbconvert_exporter": "python",
   "pygments_lexer": "ipython3",
   "version": "3.9.13"
  }
 },
 "nbformat": 4,
 "nbformat_minor": 1
}
